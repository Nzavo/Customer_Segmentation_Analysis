{
 "cells": [
  {
   "cell_type": "code",
   "execution_count": 1,
   "id": "b25e30ce",
   "metadata": {},
   "outputs": [],
   "source": [
    "#import necessary libraries\n",
    "from datetime import datetime\n",
    "import pandas as pd\n",
    "import numpy as np\n",
    "import seaborn as sns\n",
    "import matplotlib.pyplot as plt\n",
    "%matplotlib inline\n",
    "\n",
    "#machine learning libraries for model building\n",
    "from sklearn.preprocessing import LabelEncoder\n",
    "from sklearn.preprocessing import StandardScaler\n",
    "from sklearn.cluster import KMeans\n",
    "from sklearn.metrics import silhouette_score\n",
    "import warnings\n",
    "warnings.filterwarnings(\"ignore\")"
   ]
  },
  {
   "cell_type": "code",
   "execution_count": 2,
   "id": "f5136ce0",
   "metadata": {},
   "outputs": [
    {
     "data": {
      "text/html": [
       "<div>\n",
       "<style scoped>\n",
       "    .dataframe tbody tr th:only-of-type {\n",
       "        vertical-align: middle;\n",
       "    }\n",
       "\n",
       "    .dataframe tbody tr th {\n",
       "        vertical-align: top;\n",
       "    }\n",
       "\n",
       "    .dataframe thead th {\n",
       "        text-align: right;\n",
       "    }\n",
       "</style>\n",
       "<table border=\"1\" class=\"dataframe\">\n",
       "  <thead>\n",
       "    <tr style=\"text-align: right;\">\n",
       "      <th></th>\n",
       "      <th>customer_id</th>\n",
       "      <th>order_id</th>\n",
       "      <th>date_order</th>\n",
       "      <th>spend</th>\n",
       "      <th>category</th>\n",
       "      <th>margin</th>\n",
       "    </tr>\n",
       "  </thead>\n",
       "  <tbody>\n",
       "    <tr>\n",
       "      <th>0</th>\n",
       "      <td>4540910</td>\n",
       "      <td>36965281.0</td>\n",
       "      <td>2023-07-31</td>\n",
       "      <td>51.72</td>\n",
       "      <td>Beauty</td>\n",
       "      <td>18.5400</td>\n",
       "    </tr>\n",
       "    <tr>\n",
       "      <th>1</th>\n",
       "      <td>5392962</td>\n",
       "      <td>36733011.0</td>\n",
       "      <td>2023-07-24</td>\n",
       "      <td>185.34</td>\n",
       "      <td>Foodstuff</td>\n",
       "      <td>16.5383</td>\n",
       "    </tr>\n",
       "    <tr>\n",
       "      <th>2</th>\n",
       "      <td>2294191</td>\n",
       "      <td>36413968.0</td>\n",
       "      <td>2023-07-15</td>\n",
       "      <td>444.00</td>\n",
       "      <td>Foodstuff</td>\n",
       "      <td>27.3334</td>\n",
       "    </tr>\n",
       "    <tr>\n",
       "      <th>3</th>\n",
       "      <td>5566823</td>\n",
       "      <td>36541949.0</td>\n",
       "      <td>2023-07-19</td>\n",
       "      <td>4564.66</td>\n",
       "      <td>Electronics</td>\n",
       "      <td>1116.3800</td>\n",
       "    </tr>\n",
       "    <tr>\n",
       "      <th>4</th>\n",
       "      <td>577996</td>\n",
       "      <td>35967178.0</td>\n",
       "      <td>2023-07-05</td>\n",
       "      <td>190.00</td>\n",
       "      <td>Foodstuff</td>\n",
       "      <td>82.9200</td>\n",
       "    </tr>\n",
       "  </tbody>\n",
       "</table>\n",
       "</div>"
      ],
      "text/plain": [
       "   customer_id    order_id date_order    spend     category     margin\n",
       "0      4540910  36965281.0 2023-07-31    51.72       Beauty    18.5400\n",
       "1      5392962  36733011.0 2023-07-24   185.34    Foodstuff    16.5383\n",
       "2      2294191  36413968.0 2023-07-15   444.00    Foodstuff    27.3334\n",
       "3      5566823  36541949.0 2023-07-19  4564.66  Electronics  1116.3800\n",
       "4       577996  35967178.0 2023-07-05   190.00    Foodstuff    82.9200"
      ]
     },
     "execution_count": 2,
     "metadata": {},
     "output_type": "execute_result"
    }
   ],
   "source": [
    "#loading the dataset and converting the date_order to datetime format\n",
    "transaction_data = pd.read_csv('part-00000-a6026539-e7af-474c-9433-3af543abfcce-c000.csv', parse_dates=['date_order'])\n",
    "transaction_data.head()"
   ]
  },
  {
   "cell_type": "code",
   "execution_count": 3,
   "id": "929b2533",
   "metadata": {},
   "outputs": [
    {
     "data": {
      "text/plain": [
       "1395709"
      ]
     },
     "execution_count": 3,
     "metadata": {},
     "output_type": "execute_result"
    }
   ],
   "source": [
    "len(transaction_data)"
   ]
  },
  {
   "cell_type": "code",
   "execution_count": 4,
   "id": "7079581b",
   "metadata": {},
   "outputs": [
    {
     "data": {
      "text/plain": [
       "customer_id       0\n",
       "order_id       1331\n",
       "date_order        0\n",
       "spend             0\n",
       "category          0\n",
       "margin            0\n",
       "dtype: int64"
      ]
     },
     "execution_count": 4,
     "metadata": {},
     "output_type": "execute_result"
    }
   ],
   "source": [
    "#checking for missing values in the dataframe\n",
    "transaction_data.isnull().sum()"
   ]
  },
  {
   "cell_type": "markdown",
   "id": "6ddef1cb",
   "metadata": {},
   "source": [
    "We have monthly data for different customers. First we will need to aggregate the data to be per customer."
   ]
  },
  {
   "cell_type": "code",
   "execution_count": 5,
   "id": "4e1bc916",
   "metadata": {},
   "outputs": [],
   "source": [
    "#select the current date for calculating recency\n",
    "today_date = pd.to_datetime('2023-09-01')"
   ]
  },
  {
   "cell_type": "code",
   "execution_count": 6,
   "id": "72c2daad",
   "metadata": {},
   "outputs": [],
   "source": [
    "rfm_data = transaction_data.groupby('customer_id', as_index=False).agg({\n",
    "    'date_order': lambda v: (today_date - v.max()).days,\n",
    "    'order_id': 'count',\n",
    "    'spend' : 'sum',\n",
    "    'margin': 'sum'\n",
    "})"
   ]
  },
  {
   "cell_type": "code",
   "execution_count": 7,
   "id": "b73b5d17",
   "metadata": {},
   "outputs": [
    {
     "data": {
      "text/html": [
       "<div>\n",
       "<style scoped>\n",
       "    .dataframe tbody tr th:only-of-type {\n",
       "        vertical-align: middle;\n",
       "    }\n",
       "\n",
       "    .dataframe tbody tr th {\n",
       "        vertical-align: top;\n",
       "    }\n",
       "\n",
       "    .dataframe thead th {\n",
       "        text-align: right;\n",
       "    }\n",
       "</style>\n",
       "<table border=\"1\" class=\"dataframe\">\n",
       "  <thead>\n",
       "    <tr style=\"text-align: right;\">\n",
       "      <th></th>\n",
       "      <th>customer_id</th>\n",
       "      <th>Recency</th>\n",
       "      <th>Frequency</th>\n",
       "      <th>spend</th>\n",
       "      <th>margin</th>\n",
       "    </tr>\n",
       "  </thead>\n",
       "  <tbody>\n",
       "    <tr>\n",
       "      <th>0</th>\n",
       "      <td>1</td>\n",
       "      <td>34</td>\n",
       "      <td>10</td>\n",
       "      <td>6922.59</td>\n",
       "      <td>522.1008</td>\n",
       "    </tr>\n",
       "    <tr>\n",
       "      <th>1</th>\n",
       "      <td>40</td>\n",
       "      <td>46</td>\n",
       "      <td>3</td>\n",
       "      <td>14497.52</td>\n",
       "      <td>879.5200</td>\n",
       "    </tr>\n",
       "    <tr>\n",
       "      <th>2</th>\n",
       "      <td>49</td>\n",
       "      <td>52</td>\n",
       "      <td>1</td>\n",
       "      <td>380.00</td>\n",
       "      <td>21.3400</td>\n",
       "    </tr>\n",
       "    <tr>\n",
       "      <th>3</th>\n",
       "      <td>52</td>\n",
       "      <td>36</td>\n",
       "      <td>8</td>\n",
       "      <td>5742.07</td>\n",
       "      <td>1773.8975</td>\n",
       "    </tr>\n",
       "    <tr>\n",
       "      <th>4</th>\n",
       "      <td>91</td>\n",
       "      <td>34</td>\n",
       "      <td>3</td>\n",
       "      <td>5051.21</td>\n",
       "      <td>1136.3300</td>\n",
       "    </tr>\n",
       "  </tbody>\n",
       "</table>\n",
       "</div>"
      ],
      "text/plain": [
       "   customer_id  Recency  Frequency     spend     margin\n",
       "0            1       34         10   6922.59   522.1008\n",
       "1           40       46          3  14497.52   879.5200\n",
       "2           49       52          1    380.00    21.3400\n",
       "3           52       36          8   5742.07  1773.8975\n",
       "4           91       34          3   5051.21  1136.3300"
      ]
     },
     "execution_count": 7,
     "metadata": {},
     "output_type": "execute_result"
    }
   ],
   "source": [
    "#Renaming the columns\n",
    "rfm_data.rename(\n",
    "    columns = {\n",
    "        'date_order': 'Recency',\n",
    "        'order_id': 'Frequency',\n",
    "        'spend': 'spend'\n",
    "    }, inplace = True\n",
    ")\n",
    "rfm_data.head()"
   ]
  },
  {
   "cell_type": "markdown",
   "id": "7b8bc486",
   "metadata": {},
   "source": [
    "## Feature Engineering\n",
    "At this point we will run with the RFM analysis to create clusters of our customers. The criteria for this will be:\n",
    "\n",
    "   * High Value: Frequency: If the frequency is high (more than 2 in a month) and ARPC is high ( more than Kes 750 a month) - they would be high value customers.\n",
    "   * Low Value: Frequency is low ( Less than 2 and ARPC is Kes 500and below in a month)\n",
    "   * Medium ( if they don't fall under any of the above)"
   ]
  },
  {
   "cell_type": "code",
   "execution_count": 8,
   "id": "d9ad807b",
   "metadata": {
    "scrolled": true
   },
   "outputs": [
    {
     "data": {
      "text/html": [
       "<div>\n",
       "<style scoped>\n",
       "    .dataframe tbody tr th:only-of-type {\n",
       "        vertical-align: middle;\n",
       "    }\n",
       "\n",
       "    .dataframe tbody tr th {\n",
       "        vertical-align: top;\n",
       "    }\n",
       "\n",
       "    .dataframe thead th {\n",
       "        text-align: right;\n",
       "    }\n",
       "</style>\n",
       "<table border=\"1\" class=\"dataframe\">\n",
       "  <thead>\n",
       "    <tr style=\"text-align: right;\">\n",
       "      <th></th>\n",
       "      <th>customer_id</th>\n",
       "      <th>Recency</th>\n",
       "      <th>Frequency</th>\n",
       "      <th>spend</th>\n",
       "      <th>margin</th>\n",
       "      <th>RFM</th>\n",
       "    </tr>\n",
       "  </thead>\n",
       "  <tbody>\n",
       "    <tr>\n",
       "      <th>0</th>\n",
       "      <td>1</td>\n",
       "      <td>34</td>\n",
       "      <td>10</td>\n",
       "      <td>6922.59</td>\n",
       "      <td>522.1008</td>\n",
       "      <td>high_value</td>\n",
       "    </tr>\n",
       "    <tr>\n",
       "      <th>1</th>\n",
       "      <td>40</td>\n",
       "      <td>46</td>\n",
       "      <td>3</td>\n",
       "      <td>14497.52</td>\n",
       "      <td>879.5200</td>\n",
       "      <td>high_value</td>\n",
       "    </tr>\n",
       "    <tr>\n",
       "      <th>2</th>\n",
       "      <td>49</td>\n",
       "      <td>52</td>\n",
       "      <td>1</td>\n",
       "      <td>380.00</td>\n",
       "      <td>21.3400</td>\n",
       "      <td>low_value</td>\n",
       "    </tr>\n",
       "    <tr>\n",
       "      <th>3</th>\n",
       "      <td>52</td>\n",
       "      <td>36</td>\n",
       "      <td>8</td>\n",
       "      <td>5742.07</td>\n",
       "      <td>1773.8975</td>\n",
       "      <td>high_value</td>\n",
       "    </tr>\n",
       "    <tr>\n",
       "      <th>4</th>\n",
       "      <td>91</td>\n",
       "      <td>34</td>\n",
       "      <td>3</td>\n",
       "      <td>5051.21</td>\n",
       "      <td>1136.3300</td>\n",
       "      <td>high_value</td>\n",
       "    </tr>\n",
       "  </tbody>\n",
       "</table>\n",
       "</div>"
      ],
      "text/plain": [
       "   customer_id  Recency  Frequency     spend     margin         RFM\n",
       "0            1       34         10   6922.59   522.1008  high_value\n",
       "1           40       46          3  14497.52   879.5200  high_value\n",
       "2           49       52          1    380.00    21.3400   low_value\n",
       "3           52       36          8   5742.07  1773.8975  high_value\n",
       "4           91       34          3   5051.21  1136.3300  high_value"
      ]
     },
     "execution_count": 8,
     "metadata": {},
     "output_type": "execute_result"
    }
   ],
   "source": [
    "def RFM_analysis(df):\n",
    "    #conditions set for categorizing the customers\n",
    "    high_freq = 2  \n",
    "    high_monetary = 750\n",
    "    low_freq = 2  \n",
    "    low_monetary = 500  \n",
    "    # Create boolean masks based on your conditions\n",
    "    high_value = (df[\"Frequency\"] > high_freq) & (df['spend'] > high_monetary)\n",
    "    low_value = (df[\"Frequency\"] < low_freq) & (df['spend'] <= low_monetary)\n",
    "    # Assign customer categories based on the masks\n",
    "    df.loc[high_value, \"RFM\"] = \"high_value\"\n",
    "    df.loc[low_value, \"RFM\"] = \"low_value\"\n",
    "    df.loc[~(high_value | low_value), \"RFM\"] = \"medium_value\"\n",
    "    return df\n",
    "\n",
    "df = RFM_analysis(rfm_data)\n",
    "df.head()"
   ]
  },
  {
   "cell_type": "code",
   "execution_count": 9,
   "id": "21d25122",
   "metadata": {},
   "outputs": [],
   "source": [
    "df[\"RFM\"] = LabelEncoder().fit_transform(df[\"RFM\"])\n",
    "scaler = StandardScaler()\n",
    "df[\"spend_scaled\"] = scaler.fit_transform(df[\"spend\"].values.reshape(-1, 1) )\n",
    "df[\"margin_scaled\"] = scaler.fit_transform(df[\"margin\"].values.reshape(-1, 1) )"
   ]
  },
  {
   "cell_type": "markdown",
   "id": "d7134cf6",
   "metadata": {},
   "source": [
    "## Modelling Using KMeans Clustering"
   ]
  },
  {
   "cell_type": "code",
   "execution_count": 10,
   "id": "76265822",
   "metadata": {},
   "outputs": [
    {
     "data": {
      "text/html": [
       "<div>\n",
       "<style scoped>\n",
       "    .dataframe tbody tr th:only-of-type {\n",
       "        vertical-align: middle;\n",
       "    }\n",
       "\n",
       "    .dataframe tbody tr th {\n",
       "        vertical-align: top;\n",
       "    }\n",
       "\n",
       "    .dataframe thead th {\n",
       "        text-align: right;\n",
       "    }\n",
       "</style>\n",
       "<table border=\"1\" class=\"dataframe\">\n",
       "  <thead>\n",
       "    <tr style=\"text-align: right;\">\n",
       "      <th></th>\n",
       "      <th>Recency</th>\n",
       "      <th>Frequency</th>\n",
       "      <th>RFM</th>\n",
       "      <th>spend_scaled</th>\n",
       "      <th>margin_scaled</th>\n",
       "    </tr>\n",
       "  </thead>\n",
       "  <tbody>\n",
       "    <tr>\n",
       "      <th>0</th>\n",
       "      <td>34</td>\n",
       "      <td>10</td>\n",
       "      <td>0</td>\n",
       "      <td>0.286349</td>\n",
       "      <td>0.017909</td>\n",
       "    </tr>\n",
       "    <tr>\n",
       "      <th>1</th>\n",
       "      <td>46</td>\n",
       "      <td>3</td>\n",
       "      <td>0</td>\n",
       "      <td>0.694187</td>\n",
       "      <td>0.033969</td>\n",
       "    </tr>\n",
       "    <tr>\n",
       "      <th>2</th>\n",
       "      <td>52</td>\n",
       "      <td>1</td>\n",
       "      <td>1</td>\n",
       "      <td>-0.065907</td>\n",
       "      <td>-0.004591</td>\n",
       "    </tr>\n",
       "    <tr>\n",
       "      <th>3</th>\n",
       "      <td>36</td>\n",
       "      <td>8</td>\n",
       "      <td>0</td>\n",
       "      <td>0.222789</td>\n",
       "      <td>0.074155</td>\n",
       "    </tr>\n",
       "    <tr>\n",
       "      <th>4</th>\n",
       "      <td>34</td>\n",
       "      <td>3</td>\n",
       "      <td>0</td>\n",
       "      <td>0.185593</td>\n",
       "      <td>0.045508</td>\n",
       "    </tr>\n",
       "  </tbody>\n",
       "</table>\n",
       "</div>"
      ],
      "text/plain": [
       "   Recency  Frequency  RFM  spend_scaled  margin_scaled\n",
       "0       34         10    0      0.286349       0.017909\n",
       "1       46          3    0      0.694187       0.033969\n",
       "2       52          1    1     -0.065907      -0.004591\n",
       "3       36          8    0      0.222789       0.074155\n",
       "4       34          3    0      0.185593       0.045508"
      ]
     },
     "execution_count": 10,
     "metadata": {},
     "output_type": "execute_result"
    }
   ],
   "source": [
    "#drop the customer_id column since it's not needed in the kmeans algorithm\n",
    "Xs = df.drop(columns=['customer_id', 'spend', 'margin'], axis=1)\n",
    "Xs.head()"
   ]
  },
  {
   "cell_type": "code",
   "execution_count": 11,
   "id": "ae7f5367",
   "metadata": {},
   "outputs": [
    {
     "data": {
      "image/png": "[encoded data removed]",
      "text/plain": [
       "<Figure size 800x500 with 1 Axes>"
      ]
     },
     "metadata": {},
     "output_type": "display_data"
    }
   ],
   "source": [
    "# Calculate the within-cluster sum of squares (WCSS) for different values of k\n",
    "wcss = []\n",
    "for k in range(1, 11):\n",
    "    kmeans = KMeans(n_clusters=k, random_state=4, init='k-means++')\n",
    "    kmeans.fit(Xs)\n",
    "    wcss.append(kmeans.inertia_)\n",
    "    \n",
    "#plot the WCSS values against the number of clusters (k)\n",
    "plt.figure(figsize=(8, 5))\n",
    "plt.plot(range(1, 11), wcss, marker='o', linestyle='-', color='b')\n",
    "plt.title('Elbow Method for Optimal K')\n",
    "plt.xlabel('Number of Clusters (k)')\n",
    "plt.ylabel('Within-Cluster Sum of Squares (WCSS)')\n",
    "plt.grid(True)\n",
    "plt.show()"
   ]
  },
  {
   "cell_type": "code",
   "execution_count": 12,
   "id": "3f078fef",
   "metadata": {},
   "outputs": [],
   "source": [
    "# Create a K-Means clustering model with the optimal number of clusters\n",
    "optimal_clusters = 2\n",
    "kmeans = KMeans(n_clusters=optimal_clusters, random_state=4, init='k-means++')\n",
    "\n",
    "# Fit the model to the data \n",
    "kmeans.fit(Xs)\n",
    "\n",
    "# Assign the cluster labels for each data point\n",
    "cluster_labels = kmeans.labels_\n",
    "\n",
    "centroids = kmeans.cluster_centers_\n",
    "\n",
    "# Add the cluster labels to your DataFrame\n",
    "df['Cluster'] = cluster_labels"
   ]
  },
  {
   "cell_type": "code",
   "execution_count": 13,
   "id": "9d92299d",
   "metadata": {
    "scrolled": true
   },
   "outputs": [
    {
     "data": {
      "text/html": [
       "<div>\n",
       "<style scoped>\n",
       "    .dataframe tbody tr th:only-of-type {\n",
       "        vertical-align: middle;\n",
       "    }\n",
       "\n",
       "    .dataframe tbody tr th {\n",
       "        vertical-align: top;\n",
       "    }\n",
       "\n",
       "    .dataframe thead th {\n",
       "        text-align: right;\n",
       "    }\n",
       "</style>\n",
       "<table border=\"1\" class=\"dataframe\">\n",
       "  <thead>\n",
       "    <tr style=\"text-align: right;\">\n",
       "      <th></th>\n",
       "      <th>customer_id</th>\n",
       "      <th>Recency</th>\n",
       "      <th>Frequency</th>\n",
       "      <th>spend</th>\n",
       "      <th>margin</th>\n",
       "      <th>RFM</th>\n",
       "      <th>spend_scaled</th>\n",
       "      <th>margin_scaled</th>\n",
       "      <th>Cluster</th>\n",
       "    </tr>\n",
       "  </thead>\n",
       "  <tbody>\n",
       "    <tr>\n",
       "      <th>518675</th>\n",
       "      <td>6021092</td>\n",
       "      <td>32</td>\n",
       "      <td>1</td>\n",
       "      <td>238.00</td>\n",
       "      <td>-22.00</td>\n",
       "      <td>1</td>\n",
       "      <td>-0.073552</td>\n",
       "      <td>-0.006538</td>\n",
       "      <td>0</td>\n",
       "    </tr>\n",
       "    <tr>\n",
       "      <th>518676</th>\n",
       "      <td>6021093</td>\n",
       "      <td>32</td>\n",
       "      <td>2</td>\n",
       "      <td>775.00</td>\n",
       "      <td>60.53</td>\n",
       "      <td>2</td>\n",
       "      <td>-0.044640</td>\n",
       "      <td>-0.002830</td>\n",
       "      <td>0</td>\n",
       "    </tr>\n",
       "    <tr>\n",
       "      <th>518677</th>\n",
       "      <td>6021095</td>\n",
       "      <td>32</td>\n",
       "      <td>1</td>\n",
       "      <td>741.38</td>\n",
       "      <td>54.26</td>\n",
       "      <td>2</td>\n",
       "      <td>-0.046450</td>\n",
       "      <td>-0.003112</td>\n",
       "      <td>0</td>\n",
       "    </tr>\n",
       "    <tr>\n",
       "      <th>518678</th>\n",
       "      <td>6021098</td>\n",
       "      <td>32</td>\n",
       "      <td>1</td>\n",
       "      <td>2280.00</td>\n",
       "      <td>129.96</td>\n",
       "      <td>2</td>\n",
       "      <td>0.036390</td>\n",
       "      <td>0.000289</td>\n",
       "      <td>0</td>\n",
       "    </tr>\n",
       "    <tr>\n",
       "      <th>518679</th>\n",
       "      <td>6021100</td>\n",
       "      <td>32</td>\n",
       "      <td>1</td>\n",
       "      <td>1853.45</td>\n",
       "      <td>135.65</td>\n",
       "      <td>2</td>\n",
       "      <td>0.013425</td>\n",
       "      <td>0.000545</td>\n",
       "      <td>0</td>\n",
       "    </tr>\n",
       "  </tbody>\n",
       "</table>\n",
       "</div>"
      ],
      "text/plain": [
       "        customer_id  Recency  Frequency    spend  margin  RFM  spend_scaled  \\\n",
       "518675      6021092       32          1   238.00  -22.00    1     -0.073552   \n",
       "518676      6021093       32          2   775.00   60.53    2     -0.044640   \n",
       "518677      6021095       32          1   741.38   54.26    2     -0.046450   \n",
       "518678      6021098       32          1  2280.00  129.96    2      0.036390   \n",
       "518679      6021100       32          1  1853.45  135.65    2      0.013425   \n",
       "\n",
       "        margin_scaled  Cluster  \n",
       "518675      -0.006538        0  \n",
       "518676      -0.002830        0  \n",
       "518677      -0.003112        0  \n",
       "518678       0.000289        0  \n",
       "518679       0.000545        0  "
      ]
     },
     "execution_count": 13,
     "metadata": {},
     "output_type": "execute_result"
    }
   ],
   "source": [
    "df.tail()"
   ]
  },
  {
   "cell_type": "code",
   "execution_count": 14,
   "id": "e5771a84",
   "metadata": {
    "scrolled": true
   },
   "outputs": [
    {
     "data": {
      "text/plain": [
       "0    279557\n",
       "1    239123\n",
       "Name: Cluster, dtype: int64"
      ]
     },
     "execution_count": 14,
     "metadata": {},
     "output_type": "execute_result"
    }
   ],
   "source": [
    "df[\"Cluster\"].value_counts()"
   ]
  },
  {
   "cell_type": "markdown",
   "id": "193ec638",
   "metadata": {},
   "source": [
    "We can see that by using 2 clusters, there is relatively equal distribution"
   ]
  },
  {
   "cell_type": "markdown",
   "id": "1a383aba",
   "metadata": {},
   "source": [
    "Calculate the Cluster Characteristics by comparing the different clusters on the following basis:\n",
    "\n",
    "    * Number of customers\n",
    "    * Sales contribution\n",
    "    * Margin contribution\n",
    "    * Monthly spend**\n",
    "    * Shopping frequency"
   ]
  },
  {
   "cell_type": "code",
   "execution_count": 17,
   "id": "e75a7018",
   "metadata": {
    "scrolled": true
   },
   "outputs": [
    {
     "data": {
      "text/html": [
       "<div>\n",
       "<style scoped>\n",
       "    .dataframe tbody tr th:only-of-type {\n",
       "        vertical-align: middle;\n",
       "    }\n",
       "\n",
       "    .dataframe tbody tr th {\n",
       "        vertical-align: top;\n",
       "    }\n",
       "\n",
       "    .dataframe thead th {\n",
       "        text-align: right;\n",
       "    }\n",
       "</style>\n",
       "<table border=\"1\" class=\"dataframe\">\n",
       "  <thead>\n",
       "    <tr style=\"text-align: right;\">\n",
       "      <th></th>\n",
       "      <th>customer_id</th>\n",
       "      <th>Recency</th>\n",
       "      <th>Frequency</th>\n",
       "      <th>spend</th>\n",
       "      <th>margin</th>\n",
       "      <th>RFM</th>\n",
       "      <th>spend_scaled</th>\n",
       "      <th>margin_scaled</th>\n",
       "      <th>Cluster</th>\n",
       "    </tr>\n",
       "  </thead>\n",
       "  <tbody>\n",
       "    <tr>\n",
       "      <th>0</th>\n",
       "      <td>1</td>\n",
       "      <td>34</td>\n",
       "      <td>10</td>\n",
       "      <td>6922.59</td>\n",
       "      <td>522.1008</td>\n",
       "      <td>0</td>\n",
       "      <td>0.286349</td>\n",
       "      <td>0.017909</td>\n",
       "      <td>0</td>\n",
       "    </tr>\n",
       "    <tr>\n",
       "      <th>1</th>\n",
       "      <td>40</td>\n",
       "      <td>46</td>\n",
       "      <td>3</td>\n",
       "      <td>14497.52</td>\n",
       "      <td>879.5200</td>\n",
       "      <td>0</td>\n",
       "      <td>0.694187</td>\n",
       "      <td>0.033969</td>\n",
       "      <td>0</td>\n",
       "    </tr>\n",
       "    <tr>\n",
       "      <th>2</th>\n",
       "      <td>49</td>\n",
       "      <td>52</td>\n",
       "      <td>1</td>\n",
       "      <td>380.00</td>\n",
       "      <td>21.3400</td>\n",
       "      <td>1</td>\n",
       "      <td>-0.065907</td>\n",
       "      <td>-0.004591</td>\n",
       "      <td>1</td>\n",
       "    </tr>\n",
       "    <tr>\n",
       "      <th>3</th>\n",
       "      <td>52</td>\n",
       "      <td>36</td>\n",
       "      <td>8</td>\n",
       "      <td>5742.07</td>\n",
       "      <td>1773.8975</td>\n",
       "      <td>0</td>\n",
       "      <td>0.222789</td>\n",
       "      <td>0.074155</td>\n",
       "      <td>0</td>\n",
       "    </tr>\n",
       "    <tr>\n",
       "      <th>4</th>\n",
       "      <td>91</td>\n",
       "      <td>34</td>\n",
       "      <td>3</td>\n",
       "      <td>5051.21</td>\n",
       "      <td>1136.3300</td>\n",
       "      <td>0</td>\n",
       "      <td>0.185593</td>\n",
       "      <td>0.045508</td>\n",
       "      <td>0</td>\n",
       "    </tr>\n",
       "    <tr>\n",
       "      <th>5</th>\n",
       "      <td>134</td>\n",
       "      <td>34</td>\n",
       "      <td>2</td>\n",
       "      <td>100.00</td>\n",
       "      <td>20.2900</td>\n",
       "      <td>2</td>\n",
       "      <td>-0.080982</td>\n",
       "      <td>-0.004638</td>\n",
       "      <td>0</td>\n",
       "    </tr>\n",
       "    <tr>\n",
       "      <th>6</th>\n",
       "      <td>140</td>\n",
       "      <td>32</td>\n",
       "      <td>18</td>\n",
       "      <td>44486.01</td>\n",
       "      <td>14190.1400</td>\n",
       "      <td>0</td>\n",
       "      <td>2.308780</td>\n",
       "      <td>0.632041</td>\n",
       "      <td>0</td>\n",
       "    </tr>\n",
       "    <tr>\n",
       "      <th>7</th>\n",
       "      <td>159</td>\n",
       "      <td>44</td>\n",
       "      <td>1</td>\n",
       "      <td>3832.76</td>\n",
       "      <td>249.7800</td>\n",
       "      <td>2</td>\n",
       "      <td>0.119991</td>\n",
       "      <td>0.005673</td>\n",
       "      <td>0</td>\n",
       "    </tr>\n",
       "    <tr>\n",
       "      <th>8</th>\n",
       "      <td>169</td>\n",
       "      <td>55</td>\n",
       "      <td>6</td>\n",
       "      <td>1351.73</td>\n",
       "      <td>321.9884</td>\n",
       "      <td>0</td>\n",
       "      <td>-0.013588</td>\n",
       "      <td>0.008918</td>\n",
       "      <td>1</td>\n",
       "    </tr>\n",
       "    <tr>\n",
       "      <th>9</th>\n",
       "      <td>175</td>\n",
       "      <td>36</td>\n",
       "      <td>3</td>\n",
       "      <td>766.34</td>\n",
       "      <td>38.6762</td>\n",
       "      <td>0</td>\n",
       "      <td>-0.045106</td>\n",
       "      <td>-0.003812</td>\n",
       "      <td>0</td>\n",
       "    </tr>\n",
       "  </tbody>\n",
       "</table>\n",
       "</div>"
      ],
      "text/plain": [
       "   customer_id  Recency  Frequency     spend      margin  RFM  spend_scaled  \\\n",
       "0            1       34         10   6922.59    522.1008    0      0.286349   \n",
       "1           40       46          3  14497.52    879.5200    0      0.694187   \n",
       "2           49       52          1    380.00     21.3400    1     -0.065907   \n",
       "3           52       36          8   5742.07   1773.8975    0      0.222789   \n",
       "4           91       34          3   5051.21   1136.3300    0      0.185593   \n",
       "5          134       34          2    100.00     20.2900    2     -0.080982   \n",
       "6          140       32         18  44486.01  14190.1400    0      2.308780   \n",
       "7          159       44          1   3832.76    249.7800    2      0.119991   \n",
       "8          169       55          6   1351.73    321.9884    0     -0.013588   \n",
       "9          175       36          3    766.34     38.6762    0     -0.045106   \n",
       "\n",
       "   margin_scaled  Cluster  \n",
       "0       0.017909        0  \n",
       "1       0.033969        0  \n",
       "2      -0.004591        1  \n",
       "3       0.074155        0  \n",
       "4       0.045508        0  \n",
       "5      -0.004638        0  \n",
       "6       0.632041        0  \n",
       "7       0.005673        0  \n",
       "8       0.008918        1  \n",
       "9      -0.003812        0  "
      ]
     },
     "execution_count": 17,
     "metadata": {},
     "output_type": "execute_result"
    }
   ],
   "source": [
    "df.head(10)"
   ]
  },
  {
   "cell_type": "code",
   "execution_count": 18,
   "id": "315b98b0",
   "metadata": {},
   "outputs": [],
   "source": [
    "cluster_stats = df.groupby('Cluster').agg({\n",
    "    'customer_id': 'count', #no of customers\n",
    "    'spend': 'sum', #sales contribution\n",
    "    'margin': 'sum', #margin contribution\n",
    "    'Frequency': 'mean' # shopping frequency\n",
    "})"
   ]
  },
  {
   "cell_type": "code",
   "execution_count": 19,
   "id": "1083e379",
   "metadata": {},
   "outputs": [
    {
     "data": {
      "text/html": [
       "<div>\n",
       "<style scoped>\n",
       "    .dataframe tbody tr th:only-of-type {\n",
       "        vertical-align: middle;\n",
       "    }\n",
       "\n",
       "    .dataframe tbody tr th {\n",
       "        vertical-align: top;\n",
       "    }\n",
       "\n",
       "    .dataframe thead th {\n",
       "        text-align: right;\n",
       "    }\n",
       "</style>\n",
       "<table border=\"1\" class=\"dataframe\">\n",
       "  <thead>\n",
       "    <tr style=\"text-align: right;\">\n",
       "      <th></th>\n",
       "      <th>customer_id</th>\n",
       "      <th>spend</th>\n",
       "      <th>margin</th>\n",
       "      <th>Frequency</th>\n",
       "    </tr>\n",
       "    <tr>\n",
       "      <th>Cluster</th>\n",
       "      <th></th>\n",
       "      <th></th>\n",
       "      <th></th>\n",
       "      <th></th>\n",
       "    </tr>\n",
       "  </thead>\n",
       "  <tbody>\n",
       "    <tr>\n",
       "      <th>0</th>\n",
       "      <td>279557</td>\n",
       "      <td>5.575132e+08</td>\n",
       "      <td>2.448770e+07</td>\n",
       "      <td>3.438801</td>\n",
       "    </tr>\n",
       "    <tr>\n",
       "      <th>1</th>\n",
       "      <td>239123</td>\n",
       "      <td>2.745072e+08</td>\n",
       "      <td>3.957925e+07</td>\n",
       "      <td>1.810938</td>\n",
       "    </tr>\n",
       "  </tbody>\n",
       "</table>\n",
       "</div>"
      ],
      "text/plain": [
       "         customer_id         spend        margin  Frequency\n",
       "Cluster                                                    \n",
       "0             279557  5.575132e+08  2.448770e+07   3.438801\n",
       "1             239123  2.745072e+08  3.957925e+07   1.810938"
      ]
     },
     "execution_count": 19,
     "metadata": {},
     "output_type": "execute_result"
    }
   ],
   "source": [
    "cluster_stats.head()"
   ]
  },
  {
   "cell_type": "markdown",
   "id": "eda0cc91",
   "metadata": {},
   "source": [
    "Visualization to compare the cluster characteristics using bar plot"
   ]
  },
  {
   "cell_type": "markdown",
   "id": "2617fc8f",
   "metadata": {},
   "source": [
    "* Comparison of Number of Customers by Cluster"
   ]
  },
  {
   "cell_type": "code",
   "execution_count": 20,
   "id": "8473569b",
   "metadata": {},
   "outputs": [
    {
     "data": {
      "image/png": "[encoded data removed]",
      "text/plain": [
       "<Figure size 1000x600 with 1 Axes>"
      ]
     },
     "metadata": {},
     "output_type": "display_data"
    }
   ],
   "source": [
    "plt.figure(figsize=(10,6))\n",
    "plt.bar(cluster_stats.index,cluster_stats['customer_id'])\n",
    "plt.xlabel('Cluster Labels')\n",
    "plt.ylabel('Number of Customers')\n",
    "plt.title('Comparison of number of Customers by Cluster')\n",
    "plt.show()"
   ]
  },
  {
   "cell_type": "markdown",
   "id": "559ca59d",
   "metadata": {},
   "source": [
    "Comparison of Sales Contribution by Cluster"
   ]
  },
  {
   "cell_type": "code",
   "execution_count": 21,
   "id": "ae7d58be",
   "metadata": {},
   "outputs": [
    {
     "data": {
      "image/png": "[encoded data removed]",
      "text/plain": [
       "<Figure size 1000x600 with 1 Axes>"
      ]
     },
     "metadata": {},
     "output_type": "display_data"
    }
   ],
   "source": [
    "plt.figure(figsize=(10,6))\n",
    "plt.bar(cluster_stats.index,cluster_stats['spend'])\n",
    "plt.xlabel('Cluster Labels')\n",
    "plt.ylabel('Sales Contributions')\n",
    "plt.title('Comparison of Sales Contribution by Cluster')\n",
    "plt.show()"
   ]
  },
  {
   "cell_type": "markdown",
   "id": "02d26ba4",
   "metadata": {},
   "source": [
    "Comparison of Margin Contribution by Cluster"
   ]
  },
  {
   "cell_type": "code",
   "execution_count": 22,
   "id": "fd1425e7",
   "metadata": {
    "scrolled": false
   },
   "outputs": [
    {
     "data": {
      "image/png": "[encoded data removed]",
      "text/plain": [
       "<Figure size 1000x600 with 1 Axes>"
      ]
     },
     "metadata": {},
     "output_type": "display_data"
    }
   ],
   "source": [
    "plt.figure(figsize=(10,6))\n",
    "plt.bar(cluster_stats.index,cluster_stats['margin'])\n",
    "plt.xlabel('Cluster Labels')\n",
    "plt.ylabel('Margin Contibution')\n",
    "plt.title('Comparison of Margin Contribution by Cluster')\n",
    "plt.show()"
   ]
  },
  {
   "cell_type": "markdown",
   "id": "80c23787",
   "metadata": {},
   "source": [
    "Comparison of the Shopping Frequency by Cluster"
   ]
  },
  {
   "cell_type": "code",
   "execution_count": 23,
   "id": "40912b00",
   "metadata": {},
   "outputs": [
    {
     "data": {
      "image/png": "[encoded data removed]",
      "text/plain": [
       "<Figure size 1000x600 with 1 Axes>"
      ]
     },
     "metadata": {},
     "output_type": "display_data"
    }
   ],
   "source": [
    "plt.figure(figsize=(10,6))\n",
    "plt.bar(cluster_stats.index,cluster_stats['Frequency'])\n",
    "plt.xlabel('Cluster Labels')\n",
    "plt.ylabel('Shopping Frequency')\n",
    "plt.title('Comparison of Shopping Frequency by Cluster')\n",
    "plt.show()"
   ]
  },
  {
   "cell_type": "markdown",
   "id": "07dc24d5",
   "metadata": {},
   "source": [
    "We can see that by using 2 clusters, there is relatively equal distribution:<br>\n",
    "\n",
    "* **Cluster 0**\n",
    "> Customers in this cluster have a high spending habit and shop also frequently but the company generate less margin contribution from them. The company can introduce cross selling strategy thus increasing the revenue and profitability to the company. Also identify the product or services with high margin that are popular within this cluster and consider promoting them.\n",
    "        \n",
    "* **Cluster 1**\n",
    "> Customers in this cluster have a low spending habit and low shopping frequency but generate more revenue to the company. The company can encourage them to purchase a high-end version of the product they are currently considering in order to increase the spending contribution. Also the company can engage with them by sending e-mails which provide exclusive offers or promotions which compell them to return to the website."
   ]
  },
  {
   "cell_type": "code",
   "execution_count": null,
   "id": "5bff007c",
   "metadata": {},
   "outputs": [],
   "source": []
  }
 ],
 "metadata": {
  "kernelspec": {
   "display_name": "Python 3",
   "language": "python",
   "name": "python3"
  },
  "language_info": {
   "codemirror_mode": {
    "name": "ipython",
    "version": 3
   },
   "file_extension": ".py",
   "mimetype": "text/x-python",
   "name": "python",
   "nbconvert_exporter": "python",
   "pygments_lexer": "ipython3",
   "version": "3.13.0"
  }
 },
 "nbformat": 4,
 "nbformat_minor": 5
}
